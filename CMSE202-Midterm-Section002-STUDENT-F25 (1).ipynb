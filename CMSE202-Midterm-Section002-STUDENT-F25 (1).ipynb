{
 "cells": [
  {
   "cell_type": "markdown",
   "id": "3def3efc",
   "metadata": {
    "tags": []
   },
   "source": [
    "# CMSE 202 Midterm (Section 002 - Fall 2025)\n",
    "\n",
    "The goal of this midterm is to give you the opportunity to test out some of the skills that you've developed thus far this semester. In particular, you'll practice setting up a GitHub repository, committing and pushing repository changes, downloading data with command line tools, performing some data analysis, possibly using a new Python package, and writing a python class. You should find that you have all of the skills necessary to complete this exam with even just eight weeks of CMSE 202 under your belt!\n",
    "\n",
    "You are encouraged to look through the entire exam before you get started so that you can appropriately budget your time and understand the broad goals of the exam. Once you've read through it, try doing Parts 0 and 1 first so that you have your repository set up and you download all necessary data files as they will be necessary to complete the assigned tasks. Let your instructor know right away if you have problems downloading the data!\n",
    "\n",
    "The exam is set up so that even if you get stuck on one part there are opportunities to get points on the other parts, so consider jumping ahead if you feel like you aren't making progress and then come back later if you have time. If you have any questions during the exam, you may ask the instructor, the TA, or the LA privately: simply raise your hand and one of us will come over to you. \n",
    "\n",
    "\n",
    "**Important note about using online resources**: This exam is \"open internet\". That means that you can look up documentation, google how to accomplish certain Python tasks, etc. Being able to effectively use the internet for computational modeling and data science is a very important skill, so we want to make sure you have the opportunity to exercise that skill. **However: The use of any person-to-person communication software or generative AI tools is absolutely not acceptable.** If you are seen accessing your email, using a collaborative cloud storage or document software (e.g. Slack, Google Documents), or generative AIs (e.g. ChatGPT), you will be at risk for receiving a zero on the exam. Google often does give an AI summary regardless of search, so to avoid misusing AI on the exam you should not copy-paste any of the questions from the exam directly into Google. \n",
    "\n",
    "**Keep your eyes on your screen!** Unfortunately, there isn't enough space in the room for everyone to sit at their own table so please keep your eyes on your own screen. This exam is designed to give *you* the opportunity to show the instructor what you can do and you should hold yourself accountable for maintaining a high level of academic integrity. If any of the instructors observe suspicious behavior, you will, again, risk receiving a zero.\n",
    "\n",
    "**Github Issues:** If at any point you encounter an issue with Github, such as a merge conflict, rather than spending your limited exam time trying to fix it, just write the code you would use to achieve the task in the notebook and move on. If you note the issue you encountered and have correct code in your notebook, you can still receive full credit. "
   ]
  },
  {
   "cell_type": "markdown",
   "id": "6b0b3d3a",
   "metadata": {},
   "source": [
    "---\n",
    "## Part 0: Academic integrity statement\n",
    "\n",
    "Read the following statement and edit the markdown text to put your name in the statement. This is your commitment to doing your own authentic work on this exam."
   ]
  },
  {
   "cell_type": "markdown",
   "id": "8e3dc4df",
   "metadata": {
    "pycharm": {
     "name": "#%% md\n"
    }
   },
   "source": [
    "> I, **Nitish Natesan**, affirm that this exam represents my own authetic work, without the use of any unpermitted aids or generative AIs or person-to-person communication. I understand that this exam an an opportunity to showcase my own progress in developing and improving my computational skills and have done my best to demonstrate those skills."
   ]
  },
  {
   "cell_type": "markdown",
   "id": "435ee396",
   "metadata": {
    "tags": []
   },
   "source": [
    "## Part 1: Add to your Git repository to track your progress on your exam (10 points total)\n",
    "\n",
    "Before you get too far along in the exam, you're going to add it to the `cmse202-f25-turnin` repository you created in class (or in Homework 1) so that you can track your progress on the exam and preserve the final version that you turn in. In order to do this you need to\n",
    "\n",
    "1. Navigate to your `cmse202-f25-turnin` repository and create a new directory called `midterm`.\n",
    "2. Move this notebook into that **new directory** in your repository, then **add it and commit it to your repository**.\n",
    "3. Finally, to test that everything is working, \"git push\" the file so that it ends up in your GitHub repository.\n",
    "\n",
    "**Important**: Double check you've added your Professor and your TA as collaborators to your \"turnin\" respository (you should have done this in the previous homework assignment).\n",
    "\n",
    "**Important**: Make sure that the version of this notebook that you are working on is the same one that you just added to your repository! If you are working on a different copy of the noteobok, **none of your changes will be tracked**!\n",
    "\n",
    "The file should now show up on your GitHub account in the `cmse202-f25-turnin` repository inside the `midterm` directory you just created.  Periodically, **you'll be asked to commit your changes to the repository and push them to the remote GitHub location**. It can be good to get into a habit of committing your changes any time you make a significant modification."
   ]
  },
  {
   "cell_type": "markdown",
   "id": "290bab71",
   "metadata": {},
   "source": [
    "&#9989; **Question 1.1 Put all the Git commands you used to add your midterm folder and file to your GitHub repository (2 points)**:"
   ]
  },
  {
   "cell_type": "code",
   "execution_count": 163,
   "id": "77244e3d",
   "metadata": {},
   "outputs": [
    {
     "ename": "SyntaxError",
     "evalue": "invalid syntax (221712723.py, line 2)",
     "output_type": "error",
     "traceback": [
      "\u001b[1;36m  Cell \u001b[1;32mIn[163], line 2\u001b[1;36m\u001b[0m\n\u001b[1;33m    cd cmse-f25-turnin\u001b[0m\n\u001b[1;37m       ^\u001b[0m\n\u001b[1;31mSyntaxError\u001b[0m\u001b[1;31m:\u001b[0m invalid syntax\n"
     ]
    }
   ],
   "source": [
    "### Put your code here:\n",
    "cd cmse-f25-turnin\n",
    "mkdir midterm\n",
    "mv CMSE202-Midterm-Section002-STUDENT-F25.ipynb"
   ]
  },
  {
   "cell_type": "markdown",
   "id": "903ce347",
   "metadata": {},
   "source": [
    "&#9989; **Question 1.2 Put the code the instructor will need to clone your repository here (2 points)**:\n"
   ]
  },
  {
   "cell_type": "code",
   "execution_count": 19,
   "id": "adf93908",
   "metadata": {},
   "outputs": [],
   "source": [
    "### Put your code here:\n",
    "git clone https://github.com/nsnatesan/cmse-f25-turnin.git"
   ]
  },
  {
   "cell_type": "markdown",
   "id": "8239c731",
   "metadata": {},
   "source": [
    "&#9989; **Question 1.3 What git command would you use to get a list of untracked files so you know which files you might need to add. Write out the entire command below. (2 points)**:\n"
   ]
  },
  {
   "cell_type": "code",
   "execution_count": 152,
   "id": "2c84393a",
   "metadata": {},
   "outputs": [
    {
     "ename": "SyntaxError",
     "evalue": "invalid syntax (1993904733.py, line 2)",
     "output_type": "error",
     "traceback": [
      "\u001b[1;36m  Cell \u001b[1;32mIn[152], line 2\u001b[1;36m\u001b[0m\n\u001b[1;33m    git ls-files --others --exclude-standard\u001b[0m\n\u001b[1;37m        ^\u001b[0m\n\u001b[1;31mSyntaxError\u001b[0m\u001b[1;31m:\u001b[0m invalid syntax\n"
     ]
    }
   ],
   "source": [
    "### Put your code here:\n",
    "git ls-files --others --exclude-standard\n",
    "\n",
    "#Source: https://stackoverflow.com/questions/3801321/git-list-only-untracked-files-also-custom-commands"
   ]
  },
  {
   "cell_type": "markdown",
   "id": "39b5c084",
   "metadata": {},
   "source": [
    "&#9989; **Question 1.4 (4 points)**: After completing each of Part 2, Part 3, Part 4, and Part 5 below, save your notebook, commit the changes to your Git repository using a descriptive commit message, and push the changes to GitHub. Note that there are large &#128721; **STOP** signs reminding you to do this after each part. **Note:** If Github issues are encountered, just write the code you would use to commit and push changes under each of the stop signs. "
   ]
  },
  {
   "cell_type": "markdown",
   "id": "2a33af2b",
   "metadata": {},
   "source": [
    "## Part 2: Downloading and analyzing unfamiliar data (12 points)\n",
    "\n"
   ]
  },
  {
   "cell_type": "markdown",
   "id": "60a3afbd",
   "metadata": {},
   "source": [
    "In this section you will be tasked with downloading and exploring a specific data set. "
   ]
  },
  {
   "cell_type": "markdown",
   "id": "fdbaac8f",
   "metadata": {},
   "source": [
    "&#9989; **Question 2.1  Use the `curl` function we learned in class to downlaod the https://raw.githubusercontent.com/hoolagans/CMSE202_FS24/refs/heads/main/exercise.csv dataset to your working directory. Include the code you used to download the dataset below.  (2 points)**:\n"
   ]
  },
  {
   "cell_type": "code",
   "execution_count": 2,
   "id": "acd32e74",
   "metadata": {},
   "outputs": [
    {
     "name": "stderr",
     "output_type": "stream",
     "text": [
      "  % Total    % Received % Xferd  Average Speed   Time    Time     Time  Current\n",
      "                                 Dload  Upload   Total   Spent    Left  Speed\n",
      "\n",
      "  0     0    0     0    0     0      0      0 --:--:-- --:--:-- --:--:--     0\n",
      "100  9102  100  9102    0     0   110k      0 --:--:-- --:--:-- --:--:--  113k\n"
     ]
    }
   ],
   "source": [
    "### Put your code here:\n",
    "\n",
    "!curl -O https://raw.githubusercontent.com/hoolagans/CMSE202_FS24/refs/heads/main/exercise.csv"
   ]
  },
  {
   "cell_type": "markdown",
   "id": "5c1ff7ba",
   "metadata": {},
   "source": [
    "&#9989; **Question 2.2 Read in the dataset as a Pandas data frame and then display the first 8 rows. (2 points)**: \n",
    "\n"
   ]
  },
  {
   "cell_type": "code",
   "execution_count": 4,
   "id": "0eabef99",
   "metadata": {},
   "outputs": [
    {
     "data": {
      "text/html": [
       "<div>\n",
       "<style scoped>\n",
       "    .dataframe tbody tr th:only-of-type {\n",
       "        vertical-align: middle;\n",
       "    }\n",
       "\n",
       "    .dataframe tbody tr th {\n",
       "        vertical-align: top;\n",
       "    }\n",
       "\n",
       "    .dataframe thead th {\n",
       "        text-align: right;\n",
       "    }\n",
       "</style>\n",
       "<table border=\"1\" class=\"dataframe\">\n",
       "  <thead>\n",
       "    <tr style=\"text-align: right;\">\n",
       "      <th></th>\n",
       "      <th>session_id</th>\n",
       "      <th>age</th>\n",
       "      <th>height_cm</th>\n",
       "      <th>weight_kg</th>\n",
       "      <th>intensity_1to10</th>\n",
       "      <th>duration_min</th>\n",
       "      <th>steps</th>\n",
       "      <th>distance_km</th>\n",
       "      <th>avg_heart_rate_bpm</th>\n",
       "      <th>max_heart_rate_bpm</th>\n",
       "      <th>calories_burned_kcal</th>\n",
       "      <th>floors_climbed</th>\n",
       "      <th>vo2max_est_ml_per_kg_min</th>\n",
       "      <th>pace_min_per_km</th>\n",
       "    </tr>\n",
       "  </thead>\n",
       "  <tbody>\n",
       "    <tr>\n",
       "      <th>0</th>\n",
       "      <td>1</td>\n",
       "      <td>33</td>\n",
       "      <td>168.4</td>\n",
       "      <td>95.7</td>\n",
       "      <td>5</td>\n",
       "      <td>65.3</td>\n",
       "      <td>6757</td>\n",
       "      <td>5.41</td>\n",
       "      <td>102</td>\n",
       "      <td>116</td>\n",
       "      <td>711</td>\n",
       "      <td>9</td>\n",
       "      <td>38.3</td>\n",
       "      <td>12.08</td>\n",
       "    </tr>\n",
       "    <tr>\n",
       "      <th>1</th>\n",
       "      <td>2</td>\n",
       "      <td>21</td>\n",
       "      <td>159.6</td>\n",
       "      <td>56.6</td>\n",
       "      <td>6</td>\n",
       "      <td>43.4</td>\n",
       "      <td>4586</td>\n",
       "      <td>3.57</td>\n",
       "      <td>122</td>\n",
       "      <td>139</td>\n",
       "      <td>323</td>\n",
       "      <td>7</td>\n",
       "      <td>47.1</td>\n",
       "      <td>12.19</td>\n",
       "    </tr>\n",
       "    <tr>\n",
       "      <th>2</th>\n",
       "      <td>3</td>\n",
       "      <td>37</td>\n",
       "      <td>153.3</td>\n",
       "      <td>85.4</td>\n",
       "      <td>10</td>\n",
       "      <td>80.5</td>\n",
       "      <td>9549</td>\n",
       "      <td>7.83</td>\n",
       "      <td>159</td>\n",
       "      <td>167</td>\n",
       "      <td>1383</td>\n",
       "      <td>31</td>\n",
       "      <td>45.3</td>\n",
       "      <td>10.28</td>\n",
       "    </tr>\n",
       "    <tr>\n",
       "      <th>3</th>\n",
       "      <td>4</td>\n",
       "      <td>38</td>\n",
       "      <td>165.1</td>\n",
       "      <td>71.1</td>\n",
       "      <td>10</td>\n",
       "      <td>42.4</td>\n",
       "      <td>6066</td>\n",
       "      <td>5.36</td>\n",
       "      <td>167</td>\n",
       "      <td>182</td>\n",
       "      <td>607</td>\n",
       "      <td>15</td>\n",
       "      <td>42.0</td>\n",
       "      <td>7.92</td>\n",
       "    </tr>\n",
       "    <tr>\n",
       "      <th>4</th>\n",
       "      <td>5</td>\n",
       "      <td>18</td>\n",
       "      <td>169.5</td>\n",
       "      <td>74.3</td>\n",
       "      <td>6</td>\n",
       "      <td>42.3</td>\n",
       "      <td>4882</td>\n",
       "      <td>4.03</td>\n",
       "      <td>115</td>\n",
       "      <td>140</td>\n",
       "      <td>412</td>\n",
       "      <td>8</td>\n",
       "      <td>42.3</td>\n",
       "      <td>10.49</td>\n",
       "    </tr>\n",
       "    <tr>\n",
       "      <th>5</th>\n",
       "      <td>6</td>\n",
       "      <td>18</td>\n",
       "      <td>187.7</td>\n",
       "      <td>62.4</td>\n",
       "      <td>6</td>\n",
       "      <td>65.8</td>\n",
       "      <td>7801</td>\n",
       "      <td>7.13</td>\n",
       "      <td>129</td>\n",
       "      <td>146</td>\n",
       "      <td>539</td>\n",
       "      <td>15</td>\n",
       "      <td>37.6</td>\n",
       "      <td>9.23</td>\n",
       "    </tr>\n",
       "    <tr>\n",
       "      <th>6</th>\n",
       "      <td>7</td>\n",
       "      <td>31</td>\n",
       "      <td>171.3</td>\n",
       "      <td>71.0</td>\n",
       "      <td>8</td>\n",
       "      <td>70.3</td>\n",
       "      <td>7728</td>\n",
       "      <td>6.76</td>\n",
       "      <td>137</td>\n",
       "      <td>150</td>\n",
       "      <td>829</td>\n",
       "      <td>12</td>\n",
       "      <td>44.1</td>\n",
       "      <td>10.39</td>\n",
       "    </tr>\n",
       "    <tr>\n",
       "      <th>7</th>\n",
       "      <td>8</td>\n",
       "      <td>27</td>\n",
       "      <td>179.8</td>\n",
       "      <td>90.6</td>\n",
       "      <td>4</td>\n",
       "      <td>64.0</td>\n",
       "      <td>6405</td>\n",
       "      <td>5.33</td>\n",
       "      <td>106</td>\n",
       "      <td>118</td>\n",
       "      <td>558</td>\n",
       "      <td>8</td>\n",
       "      <td>34.0</td>\n",
       "      <td>11.99</td>\n",
       "    </tr>\n",
       "  </tbody>\n",
       "</table>\n",
       "</div>"
      ],
      "text/plain": [
       "   session_id  age  height_cm  weight_kg  intensity_1to10  duration_min  \\\n",
       "0           1   33      168.4       95.7                5          65.3   \n",
       "1           2   21      159.6       56.6                6          43.4   \n",
       "2           3   37      153.3       85.4               10          80.5   \n",
       "3           4   38      165.1       71.1               10          42.4   \n",
       "4           5   18      169.5       74.3                6          42.3   \n",
       "5           6   18      187.7       62.4                6          65.8   \n",
       "6           7   31      171.3       71.0                8          70.3   \n",
       "7           8   27      179.8       90.6                4          64.0   \n",
       "\n",
       "   steps  distance_km  avg_heart_rate_bpm  max_heart_rate_bpm  \\\n",
       "0   6757         5.41                 102                 116   \n",
       "1   4586         3.57                 122                 139   \n",
       "2   9549         7.83                 159                 167   \n",
       "3   6066         5.36                 167                 182   \n",
       "4   4882         4.03                 115                 140   \n",
       "5   7801         7.13                 129                 146   \n",
       "6   7728         6.76                 137                 150   \n",
       "7   6405         5.33                 106                 118   \n",
       "\n",
       "   calories_burned_kcal  floors_climbed  vo2max_est_ml_per_kg_min  \\\n",
       "0                   711               9                      38.3   \n",
       "1                   323               7                      47.1   \n",
       "2                  1383              31                      45.3   \n",
       "3                   607              15                      42.0   \n",
       "4                   412               8                      42.3   \n",
       "5                   539              15                      37.6   \n",
       "6                   829              12                      44.1   \n",
       "7                   558               8                      34.0   \n",
       "\n",
       "   pace_min_per_km  \n",
       "0            12.08  \n",
       "1            12.19  \n",
       "2            10.28  \n",
       "3             7.92  \n",
       "4            10.49  \n",
       "5             9.23  \n",
       "6            10.39  \n",
       "7            11.99  "
      ]
     },
     "execution_count": 4,
     "metadata": {},
     "output_type": "execute_result"
    }
   ],
   "source": [
    "### Put your code here:\n",
    "import pandas as pd\n",
    "life = pd.read_csv(\"exercise.csv\")\n",
    "life.head(8)\n"
   ]
  },
  {
   "cell_type": "markdown",
   "id": "d86e79ad",
   "metadata": {},
   "source": [
    "&#9989; **Question 2.3 Compute the median value of `age` in the dataframe. (2 points)**: \n",
    "\n"
   ]
  },
  {
   "cell_type": "code",
   "execution_count": 9,
   "id": "7fa9bffb",
   "metadata": {},
   "outputs": [
    {
     "name": "stdout",
     "output_type": "stream",
     "text": [
      "30.0\n"
     ]
    }
   ],
   "source": [
    "### Put your code here:\n",
    "import pandas as pd\n",
    "life = pd.read_csv(\"exercise.csv\")\n",
    "average = life[\"age\"].median()\n",
    "print(average)"
   ]
  },
  {
   "cell_type": "markdown",
   "id": "2e90d1bd",
   "metadata": {},
   "source": [
    "&#9989; **Question 2.4 Create a new data frame that contains only the 'avg_heart_rate_bpm' and 'calories_burned_kcal' features from the current data frame. (2 points)**: \n",
    "\n"
   ]
  },
  {
   "cell_type": "code",
   "execution_count": 21,
   "id": "b777a6af",
   "metadata": {},
   "outputs": [
    {
     "name": "stdout",
     "output_type": "stream",
     "text": [
      "   avg_heart_rate_bpm  calories_burned_kcal\n",
      "0                 102                   711\n",
      "1                 122                   323\n",
      "2                 159                  1383\n",
      "3                 167                   607\n",
      "4                 115                   412\n"
     ]
    }
   ],
   "source": [
    "### Put your code here\n",
    "import pandas as pd\n",
    "life = pd.read_csv(\"exercise.csv\")\n",
    "new_life = life[[\"avg_heart_rate_bpm\", \"calories_burned_kcal\"]]\n",
    "print(new_life.head())"
   ]
  },
  {
   "cell_type": "markdown",
   "id": "42fe8ccb",
   "metadata": {},
   "source": [
    "&#9989; **Question 2.5 Using the data frame you just created, create a scatter plot of calories burned vs average heart rate. (2 points)**: \n"
   ]
  },
  {
   "cell_type": "code",
   "execution_count": 23,
   "id": "97b35785",
   "metadata": {},
   "outputs": [
    {
     "data": {
      "image/png": "[encoded data removed]",
      "text/plain": [
       "<Figure size 640x480 with 1 Axes>"
      ]
     },
     "metadata": {},
     "output_type": "display_data"
    }
   ],
   "source": [
    "### Put your code here\n",
    "import pandas as pd\n",
    "import matplotlib.pyplot as plt\n",
    "life = pd.read_csv(\"exercise.csv\")\n",
    "new_life = life[[\"avg_heart_rate_bpm\", \"calories_burned_kcal\"]]\n",
    "new_life.plot(kind = \"scatter\", x = \"avg_heart_rate_bpm\", y = \"calories_burned_kcal\", title = \"Average Heart Rate vs Calories Burned\")\n",
    "plt.xlabel(\"Average Heart Rate\")\n",
    "plt.ylabel(\"Calories Burned\")\n",
    "plt.show()\n",
    "\n"
   ]
  },
  {
   "cell_type": "markdown",
   "id": "9732c055",
   "metadata": {},
   "source": [
    "&#9989; **Question 2.6 What do you observe in the plot you generated above? Are there any patterns or trends? (2 points)**: \n"
   ]
  },
  {
   "cell_type": "markdown",
   "id": "f5c0b3b5-2864-4de4-8f66-4e26d22b0e86",
   "metadata": {},
   "source": [
    "### Put your code here\n",
    "Overall, there is a linear increase in average heart rate vs calories burned, as a greater heart rate results in a greater number of calories burned. That being said, a majority of samples had a heart rate of between 100 to 140, resulting in a number of calories burned between 400 and 800.\n",
    "\n"
   ]
  },
  {
   "cell_type": "markdown",
   "id": "c7fb929b",
   "metadata": {
    "jp-MarkdownHeadingCollapsed": true,
    "tags": []
   },
   "source": [
    "---\n",
    "### &#128721; STOP (1 point)\n",
    "**Pause to commit your changes to your Git repository!**\n",
    "\n",
    "Take a moment to save your notebook, commit  and push the changes to your Git repository.\n",
    "---"
   ]
  },
  {
   "cell_type": "markdown",
   "id": "402d8c70-e2ed-4be4-9d07-5074bb077568",
   "metadata": {},
   "source": [
    "``` bash\n",
    "git add exercise.csv\n",
    "git add CMSE202-Midterm-Section002-STUDENT-F25.ipynb\n",
    "gt commit -m \"Committing Part 2\"\n",
    "git push origin main\n",
    "```"
   ]
  },
  {
   "cell_type": "markdown",
   "id": "73b28e5a",
   "metadata": {
    "tags": []
   },
   "source": [
    "## Part 3: Working with a new Python package (8 points)\n",
    "\n",
    "In this section you will be exploring the Rich Python package along with its documentation [Docs](https://rich.readthedocs.io/en/stable/introduction.html).\n",
    "(https://rich.readthedocs.io/en/stable/introduction.html)."
   ]
  },
  {
   "cell_type": "markdown",
   "id": "fac01f60",
   "metadata": {},
   "source": [
    "&#9989; **Question 3.1 Use pip install to install the Rich package for Jupyter. Include the code you used to install it here. Hint: The introduction documentation shows you how to do this. Remember to include the --user flag if using JupyterHub. (2 points):** \n",
    "\n"
   ]
  },
  {
   "cell_type": "code",
   "execution_count": 35,
   "id": "b9b60b87-9b7c-4adb-9197-c03308758c5b",
   "metadata": {},
   "outputs": [
    {
     "ename": "SyntaxError",
     "evalue": "invalid syntax (3930833821.py, line 2)",
     "output_type": "error",
     "traceback": [
      "\u001b[1;36m  Cell \u001b[1;32mIn[35], line 2\u001b[1;36m\u001b[0m\n\u001b[1;33m    pip install rich\u001b[0m\n\u001b[1;37m        ^\u001b[0m\n\u001b[1;31mSyntaxError\u001b[0m\u001b[1;31m:\u001b[0m invalid syntax\n"
     ]
    }
   ],
   "source": [
    "# Put your code here\n",
    "pip install rich"
   ]
  },
  {
   "cell_type": "markdown",
   "id": "6890c0b6",
   "metadata": {},
   "source": [
    "&#9989; **Question 3.2 Import the print function from the Rich package and print the following text \"CMSE 202!\" where the \"CMSE\" is bolded and red and \"202!\" is italicized and green. Hint: This page in the documentation may be helpful https://rich.readthedocs.io/en/stable/markup.html (2 points):** \n"
   ]
  },
  {
   "cell_type": "code",
   "execution_count": 46,
   "id": "8901b66f",
   "metadata": {},
   "outputs": [
    {
     "data": {
      "text/html": [
       "<pre style=\"white-space:pre;overflow-x:auto;line-height:normal;font-family:Menlo,'DejaVu Sans Mono',consolas,'Courier New',monospace\"><span style=\"color: #800000; text-decoration-color: #800000; font-weight: bold\">CMSE</span> <span style=\"color: #008000; text-decoration-color: #008000; font-weight: bold; font-style: italic\">202</span><span style=\"color: #008000; text-decoration-color: #008000; font-style: italic\">!</span>\n",
       "</pre>\n"
      ],
      "text/plain": [
       "\u001b[1;31mCMSE\u001b[0m \u001b[1;3;32m202\u001b[0m\u001b[3;32m!\u001b[0m\n"
      ]
     },
     "metadata": {},
     "output_type": "display_data"
    }
   ],
   "source": [
    "# Put your code here\n",
    "from rich import print\n",
    "print(\"[bold red]CMSE[/bold red] [italic green]202![/italic green]\")"
   ]
  },
  {
   "cell_type": "markdown",
   "id": "caa1c580",
   "metadata": {},
   "source": [
    "&#9989; **Question 3.3 Use the documentation and figure out how to make a nice progress display. Specifially track the progress of a loop that iterates 100 times. Inside the loop you should have just `time.sleep(0.1)`. (2 points):** \n"
   ]
  },
  {
   "cell_type": "code",
   "execution_count": 73,
   "id": "7654a871-4c1f-4da4-ae0e-28739cc6e7e8",
   "metadata": {},
   "outputs": [
    {
     "name": "stderr",
     "output_type": "stream",
     "text": [
      "Processing items: 100%|██████████| 100/100 [00:10<00:00,  9.78it/s]\n"
     ]
    }
   ],
   "source": [
    "from tqdm import tqdm\n",
    "import time\n",
    "for i in tqdm(range(100), desc=\"Processing items\"):\n",
    "    time.sleep(0.1)\n",
    "\n",
    "#Source: https://stackoverflow.com/questions/3160699/python-progress-bar"
   ]
  },
  {
   "cell_type": "markdown",
   "id": "d4c7f3d3",
   "metadata": {},
   "source": [
    "&#9989; **Question 3.4 use the rich.emoji.Emoji function to display the \"bus\" emoji. Alternatively, there is also a solution using the print function from rich if you prefer to use the print function to display the \"bus\" emoji. (2 points):** \n"
   ]
  },
  {
   "cell_type": "code",
   "execution_count": 71,
   "id": "24564af1-a480-4574-9123-3a6422500322",
   "metadata": {},
   "outputs": [
    {
     "data": {
      "text/html": [
       "<pre style=\"white-space:pre;overflow-x:auto;line-height:normal;font-family:Menlo,'DejaVu Sans Mono',consolas,'Courier New',monospace\">🚌\n",
       "</pre>\n"
      ],
      "text/plain": [
       "🚌\n"
      ]
     },
     "metadata": {},
     "output_type": "display_data"
    }
   ],
   "source": [
    "from rich import print\n",
    "print(\":bus:\")"
   ]
  },
  {
   "cell_type": "markdown",
   "id": "d381baf7",
   "metadata": {
    "jp-MarkdownHeadingCollapsed": true,
    "tags": []
   },
   "source": [
    "---\n",
    "### &#128721; STOP (1 point)\n",
    "**Pause to commit your changes to your Git repository!**\n",
    "\n",
    "Take a moment to save your notebook, commit  and push the changes to your Git repository.\n",
    "\n",
    "---"
   ]
  },
  {
   "cell_type": "code",
   "execution_count": 156,
   "id": "c7820b54-3666-403d-a09b-c03d34cb8d35",
   "metadata": {},
   "outputs": [
    {
     "ename": "SyntaxError",
     "evalue": "invalid syntax (3537710303.py, line 1)",
     "output_type": "error",
     "traceback": [
      "\u001b[1;36m  Cell \u001b[1;32mIn[156], line 1\u001b[1;36m\u001b[0m\n\u001b[1;33m    git add CMSE202-Midterm-Section002-STUDENT-F25.ipynb\u001b[0m\n\u001b[1;37m        ^\u001b[0m\n\u001b[1;31mSyntaxError\u001b[0m\u001b[1;31m:\u001b[0m invalid syntax\n"
     ]
    }
   ],
   "source": [
    "git add CMSE202-Midterm-Section002-STUDENT-F25.ipynb\n",
    "gt commit -m \"Committing Part 3\"\n",
    "git push origin main"
   ]
  },
  {
   "cell_type": "markdown",
   "id": "07d450c5",
   "metadata": {},
   "source": [
    "## Part 4: Writing a simple Python class (10 points)\n",
    "\n",
    "In this section, we will be developing a Python class as described using some starter code and then performing a series of specific tasks using the class. "
   ]
  },
  {
   "cell_type": "markdown",
   "id": "8c264b75",
   "metadata": {},
   "source": [
    "&#9989; **Question 4.1 Use the starter code to complete the class (5 points):** \n",
    "\n",
    "Context: It is the year 2035. The 3 largest companies in the world recently passed 1 quadrillion dollars in market cap. All three companies are online gambling and sports betting apps. The only passtime accessbile to average folk is gambling. There is no escape. We will implement a class to simulate a day of gambling. \n",
    "\n",
    "> 1. Setup the init function to track two values (`balance` and `bet_history`). Set the initial value for `balance=0` and set the `bet_history` to an empty list. \n",
    "\n",
    "> 2. Complete the `place_bet` function. If win==True, add `amount` to your `balance` and append \"won\" to `bet_history`. If win==False, subtract `amount` from balance and add \"lost\" to your `bet_history`. \n",
    "\n",
    "> 3. Complete the `summarize_results` function so that it prints the `bet_history` and the `balance`. \n",
    "\n",
    "> 4. Complete the if statement in the `check_bankruptcy` function to check if the balance is less than or equal to 0. \n"
   ]
  },
  {
   "cell_type": "code",
   "execution_count": 90,
   "id": "0c7c0e8c",
   "metadata": {},
   "outputs": [],
   "source": [
    "### Put your code here\n",
    "class Gambler:\n",
    "    def __init__(self):\n",
    "        self.balance = 0\n",
    "        self.bet_history = []\n",
    "\n",
    "    def place_bet(self, amount, win=False):\n",
    "        if win:\n",
    "            self. balance += amount\n",
    "            self.bet_history.append(\"won\")\n",
    "        else:\n",
    "            self.balance -= amount\n",
    "            self.bet_history.append(\"lost\")\n",
    "\n",
    "    def summarize_results(self):\n",
    "        print(f\"Total bet history: {self.bet_history}\", # Complete this print\n",
    "              f\"\\nFinal balance: {self.balance}\")   # Complete this print\n",
    "\n",
    "    def check_bankruptcy(self):\n",
    "        if self.balance <= 0: \n",
    "            print(\"You are out of money! Come back tomorrow and deposit $1000 and receive an additional $500 in bonus bets!\")\n",
    "        else:\n",
    "            print(\"Keep betting! I know you could win it all back!\")"
   ]
  },
  {
   "cell_type": "markdown",
   "id": "cf47f90d",
   "metadata": {},
   "source": [
    "&#9989; **Question 4.2 To demonstrate the code works, complete the tasks listed below using the class you defined above. (5 points):** \n",
    "\n",
    "Context: The typical day of an average person in this future is always pretty much the same. Lets simulate one example below.\n",
    "\n",
    "> 1. You turned 18 and received your gambling license (initialize a new gambler object)\n",
    "> 2. You place your first bet of \\$100 and win!\n",
    "> 3. You are feeling lucky. You can feel that this bet will change your life so you place a large bet of \\$1000. You lose :\\(\n",
    "> 4. No worries, you know you will win it back. You place a bet of \\$50 and win! Yay!\n",
    "> 5. You are feeling lucky and up your bet to \\$150. You lose :\\(\n",
    "> 6. Check to see if you went bankrupt (`check_bankruptcy`)\n",
    "> 7. Check your daily summary (`summarize_results`)\n"
   ]
  },
  {
   "cell_type": "code",
   "execution_count": 116,
   "id": "3506a66d",
   "metadata": {},
   "outputs": [
    {
     "data": {
      "text/html": [
       "<pre style=\"white-space:pre;overflow-x:auto;line-height:normal;font-family:Menlo,'DejaVu Sans Mono',consolas,'Courier New',monospace\">You are out of money! Come back tomorrow and deposit $<span style=\"color: #008080; text-decoration-color: #008080; font-weight: bold\">1000</span> and receive an additional $<span style=\"color: #008080; text-decoration-color: #008080; font-weight: bold\">500</span> in bonus bets!\n",
       "</pre>\n"
      ],
      "text/plain": [
       "You are out of money! Come back tomorrow and deposit $\u001b[1;36m1000\u001b[0m and receive an additional $\u001b[1;36m500\u001b[0m in bonus bets!\n"
      ]
     },
     "metadata": {},
     "output_type": "display_data"
    },
    {
     "data": {
      "text/html": [
       "<pre style=\"white-space:pre;overflow-x:auto;line-height:normal;font-family:Menlo,'DejaVu Sans Mono',consolas,'Courier New',monospace\">Total bet history: <span style=\"font-weight: bold\">[</span><span style=\"color: #008000; text-decoration-color: #008000\">'won'</span>, <span style=\"color: #008000; text-decoration-color: #008000\">'lost'</span>, <span style=\"color: #008000; text-decoration-color: #008000\">'won'</span>, <span style=\"color: #008000; text-decoration-color: #008000\">'lost'</span><span style=\"font-weight: bold\">]</span> \n",
       "Final balance: <span style=\"color: #008080; text-decoration-color: #008080; font-weight: bold\">-1000</span>\n",
       "</pre>\n"
      ],
      "text/plain": [
       "Total bet history: \u001b[1m[\u001b[0m\u001b[32m'won'\u001b[0m, \u001b[32m'lost'\u001b[0m, \u001b[32m'won'\u001b[0m, \u001b[32m'lost'\u001b[0m\u001b[1m]\u001b[0m \n",
       "Final balance: \u001b[1;36m-1000\u001b[0m\n"
      ]
     },
     "metadata": {},
     "output_type": "display_data"
    }
   ],
   "source": [
    "### Put your code here\n",
    "Hakari1 = Gambler()\n",
    "Hakari1.place_bet(100, True)\n",
    "Hakari1.place_bet(1000, False)\n",
    "Hakari1.place_bet(50, True)\n",
    "Hakari1.place_bet(150, False)\n",
    "Hakari1.check_bankruptcy()\n",
    "Hakari1.summarize_results()"
   ]
  },
  {
   "cell_type": "markdown",
   "id": "c159cf9a",
   "metadata": {
    "tags": []
   },
   "source": [
    "---\n",
    "### &#128721; STOP (1 point)\n",
    "**Pause to commit your changes to your Git repository!**\n",
    "\n",
    "Take a moment to save your notebook, commit  and push the changes to your Git repository.\n",
    "\n",
    "---"
   ]
  },
  {
   "cell_type": "code",
   "execution_count": null,
   "id": "1298d2e3-eb1a-44dc-a6c7-82e4e2887d90",
   "metadata": {},
   "outputs": [],
   "source": [
    "git add CMSE202-Midterm-Section002-STUDENT-F25.ipynb\n",
    "gt commit -m \"Committing Part 4\"\n",
    "git push origin main\n"
   ]
  },
  {
   "cell_type": "markdown",
   "id": "755cce02-7247-4e83-8c8f-9d3355f1512a",
   "metadata": {},
   "source": [
    "## Part 5: Writing a simple Python code using different programming paradigms (11 points)\n",
    "\n",
    "### $N_iFTy$ Chickens\n",
    "\n",
    "\n",
    "<img src=\"https://github.com/hoolagans/CMSE202_FS24/blob/main/8bit_chicken_walk.gif?raw=true\" width=\"200px\">\n",
    "<img src=\"https://github.com/hoolagans/CMSE202_FS24/blob/main/turbo_chicken.gif?raw=true\" width=\"200px\">\n",
    "<img src=\"https://github.com/hoolagans/CMSE202_FS24/blob/main/synergistic_chicken.gif?raw=true\" width=\"200px\">\n",
    "<img src=\"https://github.com/hoolagans/CMSE202_FS24/blob/main/anti_matter_chicken.gif?raw=true\" width=\"200px\">\n",
    "<img src=\"https://github.com/hoolagans/CMSE202_FS24/blob/main/legendary_space_chicken.gif?raw=true\" width=\"200px\">\n",
    "\n",
    "\n",
    "In this section, you will show your ability to use the three different programming paradigms we learned in class (linear, functional, and object-oriented). For the next 3 questions in this section you will be asked to perform the following tasks using a specific programming paradigm. \n",
    "\n",
    "Context: You are from the future where chicken NFT chickens are the primary currency. Your life's goal is to save up for a space chicken, which costs 1000 regular chickens. This is your journey. (start with 0 chickens and 0 eggs)\n",
    "\n",
    "> 1. You inherit 1 `regular chicken` from a distant relative (set your chicken NFT count to 1)\n",
    "> 2. It's your payday, your employer sends you 1 egg (set your egg count to 1)\n",
    "> 3. Your egg hatches, yielding 5 regular chickens (add 5 to your chicken NFT count, reduce egg count to 0)\n",
    "> 4. You stake your chickens in the coop for a week to receive an egg (add 1 egg to egg count)\n",
    "> 5. You spend your weekend picking up odd jobs and get paid 1 `turbo chicken` which you immediately exchange for 150 `regular chickens` (add 150 to your chicken count)\n",
    "> 6. Your egg hatches! Darn! You received an `anti-matter chicken` that wipes out 30% of your chickens. (reduce your chicken count by 30% and reduce your egg count by 1)\n",
    "> 7. You scrape the coop looking for freshly spawned chickens and find a rare `synergistic chicken`, when introduced to your other chickens your chickens increase exponentially to the 1.5 power (increase chickens to $chickens^{1.5}$)\n",
    "> 8. Do you have enough to afford a `space chicken` (write code that checks if chickens is > 1000, if so print \"Congrats! You now own a space chicken\", if not, print a sad face \":(\")"
   ]
  },
  {
   "cell_type": "markdown",
   "id": "565a8282-74af-4ffd-b6cf-0c483cf9588f",
   "metadata": {},
   "source": [
    "&#9989; **Question 5.1 Write code for the above task using linear programming (3 points):** "
   ]
  },
  {
   "cell_type": "code",
   "execution_count": 125,
   "id": "4c321a9f-e981-4657-ad7a-c83eaa777bdb",
   "metadata": {},
   "outputs": [
    {
     "data": {
      "text/html": [
       "<pre style=\"white-space:pre;overflow-x:auto;line-height:normal;font-family:Menlo,'DejaVu Sans Mono',consolas,'Courier New',monospace\">Congrats! You now own a space chicken\n",
       "</pre>\n"
      ],
      "text/plain": [
       "Congrats! You now own a space chicken\n"
      ]
     },
     "metadata": {},
     "output_type": "display_data"
    }
   ],
   "source": [
    "### Put your code here\n",
    "eggs = 0\n",
    "chickens = 0\n",
    "chickens = 1\n",
    "eggs = 1\n",
    "if eggs > 0:\n",
    "    chickens += 5\n",
    "    eggs -= 1\n",
    "eggs += 1\n",
    "chickens += 150\n",
    "if eggs > 0:\n",
    "    chickens *= 0.7\n",
    "    eggs -= 1\n",
    "chickens = chickens**1.5\n",
    "if chickens >= 1000:\n",
    "    print(\"Congrats! You now own a space chicken\")\n",
    "else:\n",
    "    (\":(\")\n",
    "\n"
   ]
  },
  {
   "cell_type": "markdown",
   "id": "0e6d60bd-78fc-4aad-a488-4dbe6cbf762f",
   "metadata": {},
   "source": [
    "&#9989; **Question 5.2 Write code for the above task using functional programming (3 points):** "
   ]
  },
  {
   "cell_type": "code",
   "execution_count": null,
   "id": "647cf0e9-9009-4cda-909c-0aa8107dff4e",
   "metadata": {},
   "outputs": [],
   "source": [
    "### Put your code here"
   ]
  },
  {
   "cell_type": "markdown",
   "id": "7c98bcff-f743-46c9-937f-e493e92666f5",
   "metadata": {},
   "source": [
    "&#9989; **Question 5.3 Write code for the above task using object-oriented programming (3 points):** "
   ]
  },
  {
   "cell_type": "code",
   "execution_count": 143,
   "id": "06556500-bcd9-4f3e-8b26-92fd4db2b945",
   "metadata": {},
   "outputs": [],
   "source": [
    "### Put your code here\n",
    "import math \n",
    "\n",
    "class NFTChicken:\n",
    "    def __init__(self):\n",
    "        self.chickens = 0\n",
    "        self.eggs = 0\n",
    "\n",
    "    def inheritance(self, count):\n",
    "        self.chickens += count\n",
    "\n",
    "    def receive_egg(self, count):\n",
    "        self.eggs += count\n",
    "\n",
    "    def hatch_egg(self):\n",
    "        if self.eggs >= 1:\n",
    "            self.eggs -= 1\n",
    "            self.chickens += 5\n",
    "\n",
    "    def stake_chicken(self):\n",
    "        if self.chickens > 0:\n",
    "            self.eggs += 1\n",
    "            \n",
    "    def receive_turbo_chicken(self):\n",
    "        chickens_gained = 150\n",
    "        self.chickens += chickens_gained\n",
    "\n",
    "    def antimatter_egg(self):\n",
    "        if self.eggs >= 1:\n",
    "            self.eggs -= 1\n",
    "            reduction = 0.30\n",
    "            lost = math.floor(self.chickens * reduction)\n",
    "            self.chickens -= lost\n",
    "\n",
    "    def synergistic_chicken(self):\n",
    "        self.chickens = math.floor(self.chickens ** 1.5)\n",
    "\n",
    "    def check_space_chicken(self):\n",
    "        if self.chickens >= 1000:\n",
    "            print(\"Congrats! You now own a space chicken\")\n",
    "        else:\n",
    "            (\":(\")"
   ]
  },
  {
   "cell_type": "code",
   "execution_count": 147,
   "id": "5780d1eb-a4a8-4ac9-b831-5c58e2c74c56",
   "metadata": {},
   "outputs": [
    {
     "data": {
      "text/html": [
       "<pre style=\"white-space:pre;overflow-x:auto;line-height:normal;font-family:Menlo,'DejaVu Sans Mono',consolas,'Courier New',monospace\">Congrats! You now own a space chicken\n",
       "</pre>\n"
      ],
      "text/plain": [
       "Congrats! You now own a space chicken\n"
      ]
     },
     "metadata": {},
     "output_type": "display_data"
    }
   ],
   "source": [
    "Nitish = NFTChicken()\n",
    "Nitish.inheritance(1)\n",
    "Nitish.receive_egg(1)\n",
    "Nitish.hatch_egg()\n",
    "Nitish.stake_chicken()\n",
    "Nitish.receive_turbo_chicken()\n",
    "Nitish.antimatter_egg()\n",
    "Nitish.synergistic_chicken()\n",
    "Nitish.check_space_chicken()\n",
    "\n",
    "\n"
   ]
  },
  {
   "cell_type": "markdown",
   "id": "23fa07a7-a7ae-42bd-8c2b-0378bb299852",
   "metadata": {},
   "source": [
    "&#9989; **Question 5.4 Which method do you think was best suited for this problem and why? (2 points):** \n"
   ]
  },
  {
   "cell_type": "markdown",
   "id": "5e8e38cf-1f3c-4711-b90a-227424e39219",
   "metadata": {},
   "source": [
    "### Put your answer here\n",
    "In my opinion, I belive that for this problem specifically, linear programming was best suited for it. For a problem like this one that didn't require many long or complicated lines of code to get the results, linear programming allows for each line to be made as simple as possible, which makes it very easy to understand what each line is meant to do. For a longer and/or more complicated program, functional or object-oriented program would be better, since they work far more efficiently and on a larger scale than linear programming. For this shorter, less complicated question, however, linear program offers the simplest, easiest to understand solution."
   ]
  },
  {
   "cell_type": "markdown",
   "id": "14435d84-82d4-4ffc-82b9-3188de6c7103",
   "metadata": {},
   "source": [
    "---\n",
    "### &#128721; STOP (1 point)\n",
    "**Pause to commit your changes to your Git repository!**\n",
    "\n",
    "Take a moment to save your notebook, commit  and push the changes to your Git repository.\n",
    "\n",
    "---"
   ]
  },
  {
   "cell_type": "code",
   "execution_count": 159,
   "id": "b576c1a2-9541-4232-9877-9757adf9599c",
   "metadata": {},
   "outputs": [
    {
     "ename": "SyntaxError",
     "evalue": "invalid syntax (134944151.py, line 1)",
     "output_type": "error",
     "traceback": [
      "\u001b[1;36m  Cell \u001b[1;32mIn[159], line 1\u001b[1;36m\u001b[0m\n\u001b[1;33m    git add CMSE202-Midterm-Section002-STUDENT-F25.ipynb\u001b[0m\n\u001b[1;37m        ^\u001b[0m\n\u001b[1;31mSyntaxError\u001b[0m\u001b[1;31m:\u001b[0m invalid syntax\n"
     ]
    }
   ],
   "source": [
    "git add CMSE202-Midterm-Section002-STUDENT-F25.ipynb\n",
    "gt commit -m \"Committing Part 5\"\n",
    "git push origin main"
   ]
  },
  {
   "cell_type": "markdown",
   "id": "868efbc9",
   "metadata": {
    "jp-MarkdownHeadingCollapsed": true,
    "tags": []
   },
   "source": [
    "## You're done! Congrats on finishing your CMSE 202 Midterm!\n",
    "\n",
    "Make sure all of your changes to your repository are committed and pushed to GitHub. Also upload a copy of this notebook to the dropbox on D2L in case something went wrong with your repository or if you couldn't get the repository to work."
   ]
  }
 ],
 "metadata": {
  "kernelspec": {
   "display_name": "Python [conda env:base] *",
   "language": "python",
   "name": "conda-base-py"
  },
  "language_info": {
   "codemirror_mode": {
    "name": "ipython",
    "version": 3
   },
   "file_extension": ".py",
   "mimetype": "text/x-python",
   "name": "python",
   "nbconvert_exporter": "python",
   "pygments_lexer": "ipython3",
   "version": "3.12.7"
  }
 },
 "nbformat": 4,
 "nbformat_minor": 5
}
